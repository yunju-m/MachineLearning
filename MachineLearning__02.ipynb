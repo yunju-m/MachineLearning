{
  "nbformat": 4,
  "nbformat_minor": 0,
  "metadata": {
    "colab": {
      "provenance": [],
      "include_colab_link": true
    },
    "kernelspec": {
      "name": "python3",
      "display_name": "Python 3"
    },
    "language_info": {
      "name": "python"
    }
  },
  "cells": [
    {
      "cell_type": "markdown",
      "metadata": {
        "id": "view-in-github",
        "colab_type": "text"
      },
      "source": [
        "<a href=\"https://colab.research.google.com/github/yunju-m/MachineLearning/blob/main/MachineLearning__02.ipynb\" target=\"_parent\"><img src=\"https://colab.research.google.com/assets/colab-badge.svg\" alt=\"Open In Colab\"/></a>"
      ]
    },
    {
      "cell_type": "markdown",
      "source": [
        "# 기계학습 2주차 실습"
      ],
      "metadata": {
        "id": "83k2WbS4rROf"
      }
    },
    {
      "cell_type": "markdown",
      "source": [
        "## 시작하기 전에..\n",
        "\n",
        "※ 상단 메뉴에서 '**파일 - 드라이브에 사본 저장**' 진행 후 시작하세요."
      ],
      "metadata": {
        "id": "1CXfTaxCFmvA"
      }
    },
    {
      "cell_type": "markdown",
      "source": [
        "---"
      ],
      "metadata": {
        "id": "fBW5t6eiFqLF"
      }
    },
    {
      "cell_type": "markdown",
      "source": [
        "1. 구글 Colab의 기초 사용법을 숙지해보자. 예시의 결과가 출력되도록 아래 스텝을 따라가시오.\n",
        "\n",
        "- 결괏값을 반환해주는 get_result 함수를 구현하기 위해 코드 위에 새로운 코드셀을 추가해보자.\\\n",
        "옳지 않은 곳에 셀을 생성했다면 셀 우측 상단의 화살표 버튼을 통해 이동시킬 수 있다.\n",
        "\n",
        "- 생성한 셀에 \"Hello world\" 문자열을 출력하는 함수 get_result를 정의해보자.\n",
        "\n",
        "- 셀들은 독자적으로 실행 될 수 있다. 셀에 마우스를 올리면 좌측에 실행버튼이 생긴다. 이를 통해 두 셀들을 실행하여 결과를 확인해보자.\\\n",
        "또는 셀 에디터 내에서 Ctrl+Enter로 실행할 수 있다."
      ],
      "metadata": {
        "id": "ph7fqixtFhki"
      }
    },
    {
      "cell_type": "code",
      "source": [
        "def get_result():\n",
        "  return \"Hello world\""
      ],
      "metadata": {
        "id": "Pz5IYq_Qnr6D"
      },
      "execution_count": null,
      "outputs": []
    },
    {
      "cell_type": "code",
      "source": [
        "result = get_result()\n",
        "\n",
        "print(\"결과:\", result)"
      ],
      "metadata": {
        "colab": {
          "base_uri": "https://localhost:8080/"
        },
        "id": "RQDQMvNUKRjR",
        "outputId": "a6afa7d8-2e3a-462b-93d2-6340f635558d"
      },
      "execution_count": null,
      "outputs": [
        {
          "output_type": "stream",
          "name": "stdout",
          "text": [
            "결과: Hello world\n"
          ]
        }
      ]
    },
    {
      "cell_type": "markdown",
      "source": [
        "- 코랩은 작성한 순서가 아닌 셀이 실행된 순서대로 정보가 쌓인다.\\\n",
        "이를 이해하기 위해 바로 아래의 코드를 실행해보고 결과를 다시 출력해보자."
      ],
      "metadata": {
        "id": "3iHt5Zjcai6x"
      }
    },
    {
      "cell_type": "code",
      "source": [
        "def get_result():\n",
        "  return \"New Result\""
      ],
      "metadata": {
        "id": "oS1TaM7SahIq"
      },
      "execution_count": null,
      "outputs": []
    },
    {
      "cell_type": "code",
      "source": [
        "result = get_result()\n",
        "\n",
        "print(\"결과:\", result)"
      ],
      "metadata": {
        "colab": {
          "base_uri": "https://localhost:8080/"
        },
        "id": "ijFuezOUoKBL",
        "outputId": "01d6dea0-d481-49c8-cdf6-c84a1bff303f"
      },
      "execution_count": null,
      "outputs": [
        {
          "output_type": "stream",
          "name": "stdout",
          "text": [
            "결과: New Result\n"
          ]
        }
      ]
    },
    {
      "cell_type": "markdown",
      "source": [
        "- 이런 이유로 실행 순서로 인해 예상하지 않은 결과가 나오는 경우가 자주 생긴다.\\\n",
        "그럴 경우에는 상단 메뉴 중 **'런타임 - 다시 시작 및 모두 실행'**으로 쌓인 정보를 모두 지우고 차례대로 다시 실행할 수 있다."
      ],
      "metadata": {
        "id": "jWwqCDD7eMC_"
      }
    },
    {
      "cell_type": "markdown",
      "source": [
        "---"
      ],
      "metadata": {
        "id": "Avm_Gq_zhGv-"
      }
    },
    {
      "cell_type": "markdown",
      "source": [
        "2. 계산기(calculator) class를 만들어보자.\n",
        "\n",
        "*  조건 1. 계산기는 두 실수를 입력으로 받을 수 있다.\n",
        "*  조건 2. 계산기 기능은 add(+), sub(-), multiply(*), divide(/) 이렇게 4개 이다.\n",
        "*  조건 3. while 문을 돌면서, 두 개의 숫자를 입력으로 받고 사칙 연산 중 하나를 선택하면, 해당 연산을 수행하고, 특정 값이 나오면 while문을 탈출한다."
      ],
      "metadata": {
        "id": "LrIHIPQt0hCM"
      }
    },
    {
      "cell_type": "code",
      "source": [
        "## 두 실수에 대한 4칙 연산이 정의된 클래스\n",
        "class Calculator():\n",
        "  def set_a(obj, x):\n",
        "    obj.a = x\n",
        "  def set_b(obj, x):\n",
        "    obj.b = x\n",
        "  def add(obj):\n",
        "    return obj.a + obj.b\n",
        "  def sub(obj):\n",
        "    return obj.a - obj.b\n",
        "  def mul(obj):\n",
        "    return obj.a * obj.b\n",
        "  def div(obj):\n",
        "    if obj.b == 0:\n",
        "      return \"ZeroDivisionError\"\n",
        "    return obj.a / obj.b\n",
        "\n",
        "# ========================= #\n",
        "\n",
        "obj=Calculator() ## Calculator라는 class를 obj이라는 이름의 객체로 생성\n",
        "\n",
        "while True:\n",
        "    a=float(input(\"Enter first number: \"))\n",
        "    obj.set_a(a)\n",
        "\n",
        "    b=float(input(\"Enter second number: \"))\n",
        "    obj.set_b(b)\n",
        "    \n",
        "    print(\"0. Exit\")\n",
        "    print(\"1. Add\")\n",
        "    print(\"2. Subtraction\")\n",
        "    print(\"3. Multiplication\")\n",
        "    print(\"4. Division\")\n",
        "    choice=int(input(\"Enter choice: \"))\n",
        "    \n",
        "    if choice==1:\n",
        "        print(\"Result: \",obj.add())\n",
        "    elif choice==2:\n",
        "        print(\"Result: \",obj.sub())\n",
        "    elif choice==3:\n",
        "        print(\"Result: \",obj.mul())\n",
        "    elif choice==4:\n",
        "        print(\"Result: \",obj.div())\n",
        "    elif choice==0:\n",
        "        print(\"Exiting!\")\n",
        "        break\n",
        "    else:\n",
        "        print(\"Invalid choice!!\")\n",
        "    print(\"\")"
      ],
      "metadata": {
        "id": "fI656fYPBPVw",
        "colab": {
          "base_uri": "https://localhost:8080/"
        },
        "outputId": "e5a44935-1eb8-4890-94d4-f96fa65fa03f"
      },
      "execution_count": null,
      "outputs": [
        {
          "output_type": "stream",
          "name": "stdout",
          "text": [
            "Enter first number: 5\n",
            "Enter second number: 4\n",
            "0. Exit\n",
            "1. Add\n",
            "2. Subtraction\n",
            "3. Multiplication\n",
            "4. Division\n",
            "Enter choice: 1\n",
            "Result:  9.0\n",
            "\n",
            "Enter first number: 5\n",
            "Enter second number: 4\n",
            "0. Exit\n",
            "1. Add\n",
            "2. Subtraction\n",
            "3. Multiplication\n",
            "4. Division\n",
            "Enter choice: 2\n",
            "Result:  1.0\n",
            "\n",
            "Enter first number: 5\n",
            "Enter second number: 4\n",
            "0. Exit\n",
            "1. Add\n",
            "2. Subtraction\n",
            "3. Multiplication\n",
            "4. Division\n",
            "Enter choice: 3\n",
            "Result:  20.0\n",
            "\n",
            "Enter first number: 5\n",
            "Enter second number: 4\n",
            "0. Exit\n",
            "1. Add\n",
            "2. Subtraction\n",
            "3. Multiplication\n",
            "4. Division\n",
            "Enter choice: 4\n",
            "Result:  1.25\n",
            "\n",
            "Enter first number: 5\n",
            "Enter second number: 0\n",
            "0. Exit\n",
            "1. Add\n",
            "2. Subtraction\n",
            "3. Multiplication\n",
            "4. Division\n",
            "Enter choice: 4\n",
            "Result:  ZeroDivisionError\n",
            "\n",
            "Enter first number: 0\n",
            "Enter second number: 0\n",
            "0. Exit\n",
            "1. Add\n",
            "2. Subtraction\n",
            "3. Multiplication\n",
            "4. Division\n",
            "Enter choice: 0\n",
            "Exiting!\n"
          ]
        }
      ]
    },
    {
      "cell_type": "markdown",
      "source": [
        "---"
      ],
      "metadata": {
        "id": "UHik4R0IE1fZ"
      }
    },
    {
      "cell_type": "markdown",
      "source": [
        "3. 모듈의 사용법을 익혀보자.\n",
        "- math 모듈을 import 하시오.\n",
        "- random 모듈 내부에 정의돼있는 randint 함수를 import 하시오.\n",
        "- numpy 라는 모듈을 import 하되, np라는 약칭으로 쓸 수 있도록 import 하시오."
      ],
      "metadata": {
        "id": "swHHh09fEPqq"
      }
    },
    {
      "cell_type": "code",
      "source": [
        "### 1.\n",
        "import math\n",
        "print(\"4! =\", math.factorial(4))\n",
        "print(\"log₂64 =\", math.log(64, 2))\n",
        "\n",
        "### 2.\n",
        "from random import randint\n",
        "print(\"1~5 랜덤 숫자:\", randint(1, 5))\n",
        "\n",
        "### 3.\n",
        "import numpy as np\n",
        "x = np.array([[1, 2, 3], [4, 5, 6], [7, 8, 9], [10, 11, 12]])\n",
        "print(\"x의 transpose:\\n\", x.T)"
      ],
      "metadata": {
        "colab": {
          "base_uri": "https://localhost:8080/"
        },
        "id": "Lb4Bm8T_FnSG",
        "outputId": "8529402f-713a-415c-ed04-db1dc116e2d1"
      },
      "execution_count": null,
      "outputs": [
        {
          "output_type": "stream",
          "name": "stdout",
          "text": [
            "4! = 24\n",
            "log₂64 = 6.0\n",
            "1~5 랜덤 숫자: 1\n",
            "x의 transpose:\n",
            " [[ 1  4  7 10]\n",
            " [ 2  5  8 11]\n",
            " [ 3  6  9 12]]\n"
          ]
        }
      ]
    },
    {
      "cell_type": "markdown",
      "source": [
        "---"
      ],
      "metadata": {
        "id": "1_-ZBE4DBJFC"
      }
    },
    {
      "cell_type": "markdown",
      "source": [
        "## 마치며..\n",
        "\n",
        "※ 완료 시 우측 상단 프로필 옆 '**공유 - 액세스를 *링크가 있는 모든 사용자*로 전환**' 후 복사한 링크를 이루리 과제 란에 업로드 하세요.\n",
        "\n",
        "<img src=\"https://drive.google.com/uc?id=1Zj1FKIz0sanqUfkfr3scp5M-dDgMFxYQ\" height=300>\n",
        "\n",
        "</br>\n",
        "\n",
        "※ 추가로 상단 메뉴 '**파일 - 다운로드 - .ipynb**' 로 다운로드 후 첨부 파일로 업로드 하세요.\n",
        "\n",
        "※ 즉, 과제의 텍스트란에는 링크를, 파일 첨부란에는 .ipynb 파일을 제출하십시오."
      ],
      "metadata": {
        "id": "elKqrF3iBPNV"
      }
    }
  ]
}